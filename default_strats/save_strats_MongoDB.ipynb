{
 "cells": [
  {
   "attachments": {},
   "cell_type": "markdown",
   "metadata": {},
   "source": [
    "# Default strategies insertion into MongoDB"
   ]
  },
  {
   "cell_type": "code",
   "execution_count": 1,
   "metadata": {},
   "outputs": [],
   "source": [
    "## Libraries\n",
    "import os\n",
    "import pkgutil\n",
    "from importlib import import_module\n",
    "import inspect\n",
    "from backtesting import Strategy\n",
    "\n",
    "from pymongo import MongoClient"
   ]
  },
  {
   "attachments": {},
   "cell_type": "markdown",
   "metadata": {},
   "source": [
    "### Database connection"
   ]
  },
  {
   "cell_type": "code",
   "execution_count": 2,
   "metadata": {},
   "outputs": [],
   "source": [
    "## DATABASE\n",
    "# Establish a connection to MongoDB\n",
    "client = MongoClient('mongodb://localhost:27017/')\n",
    "\n",
    "# Access the collection for the strategies\n",
    "db = client['strategies']"
   ]
  },
  {
   "cell_type": "code",
   "execution_count": 3,
   "metadata": {},
   "outputs": [
    {
     "data": {
      "text/plain": [
       "<pymongo.results.DeleteResult at 0x2aa506682b0>"
      ]
     },
     "execution_count": 3,
     "metadata": {},
     "output_type": "execute_result"
    }
   ],
   "source": [
    "# Delete the existing items in the collection to start fresh\n",
    "db['default_strategies'].delete_many({})"
   ]
  },
  {
   "attachments": {},
   "cell_type": "markdown",
   "metadata": {},
   "source": [
    "### Strategy classes definition"
   ]
  },
  {
   "cell_type": "code",
   "execution_count": 19,
   "metadata": {},
   "outputs": [],
   "source": [
    "# Get the directory where the strategy modules are located\n",
    "modules_dir = 'modules'\n",
    "\n",
    "# Create an empty dictionary to store the strategy classes\n",
    "strategy_classes = {}\n",
    "\n",
    "# Iterate over the strategy modules in the directory\n",
    "for _, module_name, _ in pkgutil.iter_modules([modules_dir]):\n",
    "    # Import the strategy module dynamically\n",
    "    module = import_module(f'{modules_dir}.{module_name}')\n",
    "\n",
    "    # Get the strategy class from the module\n",
    "    strategy_class = next((cls for _, cls in inspect.getmembers(module, inspect.isclass) if issubclass(cls, Strategy)), None)\n",
    "\n",
    "    # Add the strategy class to the dictionary with the module name as key\n",
    "    if strategy_class is not None:\n",
    "        strategy_classes[module_name] = strategy_class"
   ]
  },
  {
   "cell_type": "code",
   "execution_count": 20,
   "metadata": {},
   "outputs": [
    {
     "data": {
      "text/plain": [
       "{'AverageDirectionalMovement': modules.AverageDirectionalMovement.AverageDirectionalMovement,\n",
       " 'BollingerBands': modules.BollingerBands.BollingerBands,\n",
       " 'MeanReversion': modules.MeanReversion.MeanReversion,\n",
       " 'MeanReversionBollinger': modules.MeanReversionBollinger.MeanReversionBollinger,\n",
       " 'MomentumVolatility': modules.MomentumVolatility.MomentumVolatility,\n",
       " 'MovingAverageConvergenceDivergence': modules.MovingAverageConvergenceDivergence.MovingAverageConvergenceDivergence,\n",
       " 'MovingAverageCrossover': modules.MovingAverageCrossover.MovingAverageCrossover,\n",
       " 'RelativeStrengthIndex': modules.RelativeStrengthIndex.RelativeStrengthIndex,\n",
       " 'StochasticOverboughtOversold': modules.StochasticOverboughtOversold.StochasticOverboughtOversold,\n",
       " 'Turtle': backtesting.backtesting.Strategy,\n",
       " 'VolatilityBreakout': backtesting.backtesting.Strategy}"
      ]
     },
     "execution_count": 20,
     "metadata": {},
     "output_type": "execute_result"
    }
   ],
   "source": [
    "strategy_classes"
   ]
  },
  {
   "attachments": {},
   "cell_type": "markdown",
   "metadata": {},
   "source": [
    "### Description of the strategies"
   ]
  },
  {
   "cell_type": "code",
   "execution_count": 21,
   "metadata": {},
   "outputs": [],
   "source": [
    "# Create a dictionary with the descriptions of each strategy\n",
    "strategy_descriptions = {\n",
    "    'AverageDirectionalMovement': '''\n",
    "        The Average Directional Movement (ADX) strategy is a trend-following strategy that uses the ADX indicator\n",
    "        to identify strong trending markets. The strategy generates a buy signal when the ADX crosses above a threshold\n",
    "        value, indicating the start of a new trend. It generates a sell signal when the ADX falls below the threshold,\n",
    "        suggesting a weakening trend or a range-bound market.\n",
    "    ''',\n",
    "    'BollingerBands': '''\n",
    "        The Bollinger Bands strategy is a mean-reversion strategy that uses the Bollinger Bands indicator to identify\n",
    "        overbought and oversold conditions. The strategy generates a buy signal when the price crosses below the\n",
    "        lower Bollinger Band and a sell signal when the price crosses above the upper Bollinger Band.\n",
    "    ''',\n",
    "    'MeanReversion': '''\n",
    "        The Mean Reversion strategy is a mean-reversion trading strategy that identifies potential price reversals.\n",
    "        It calculates the z-score of the current closing price based on the mean and standard deviation over a\n",
    "        specified lookback period. When the z-score exceeds a certain threshold (positive or negative), indicating\n",
    "        an extreme deviation from the mean, it generates a sell or buy signal, respectively.\n",
    "    ''',\n",
    "    'MeanReversionBollinger': '''\n",
    "        The Mean Reversion Bollinger strategy is a mean-reversion strategy that combines the concepts of mean reversion\n",
    "        and Bollinger Bands. It identifies potential price reversals by calculating the z-score of the current closing\n",
    "        price based on the mean and standard deviation over a specified lookback period. When the z-score exceeds a\n",
    "        certain threshold (positive or negative), indicating an extreme deviation from the mean, it generates a sell\n",
    "        or buy signal, respectively. The threshold is determined by the number of standard deviations from the mean.\n",
    "    ''',\n",
    "    'MomentumVolatility': '''\n",
    "        The Momentum Volatility strategy is a momentum-based strategy that combines momentum and volatility indicators.\n",
    "        It generates a sell signal when the momentum indicator is positive and the average true range (ATR) exceeds\n",
    "        a specified threshold. It generates a buy signal when the momentum indicator is negative and the ATR exceeds\n",
    "        the threshold.\n",
    "    ''',\n",
    "    'MovingAverageConvergenceDivergence': '''\n",
    "        The Moving Average Convergence Divergence (MACD) strategy is a trend-following strategy that uses the MACD\n",
    "        indicator to identify potential buy and sell signals. It generates a buy signal when the MACD histogram\n",
    "        crosses above zero and a sell signal when the MACD histogram crosses below zero.\n",
    "    ''',\n",
    "    'MovingAverageCrossover': '''\n",
    "        The Moving Average Crossover strategy is a trend-following strategy that uses two moving averages of different\n",
    "        periods to generate buy and sell signals. It generates a buy signal when the shorter-term moving average\n",
    "        crosses above the longer-term moving average and a sell signal when the shorter-term moving average crosses\n",
    "        below the longer-term moving average.\n",
    "    ''',\n",
    "    'RelativeStrengthIndex': '''\n",
    "        The Relative Strength Index (RSI) strategy is a momentum-based strategy that uses the RSI indicator to identify\n",
    "        overbought and oversold conditions. It generates a sell signal when the RSI crosses above a specified sell\n",
    "        threshold and a buy signal when the RSI crosses below a specified buy threshold.\n",
    "    ''',\n",
    "    'StochasticOverboughtOversold': '''\n",
    "        The Stochastic Overbought/Oversold strategy is a momentum-based strategy that uses the Stochastic Oscillator\n",
    "        to identify overbought and oversold conditions. It generates a buy signal when the Stochastic Oscillator (%K)\n",
    "        falls below the oversold threshold and then crosses above it, and a sell signal when it rises above the\n",
    "        overbought threshold and then crosses below it.\n",
    "    ''',\n",
    "    'Turtle': '''\n",
    "        The Turtle strategy is a trend-following strategy based on breakout levels. It identifies potential entry points\n",
    "        by detecting breakouts above the highest high or below the lowest low over a specified lookback period. Once a\n",
    "        breakout occurs, it enters a long or short position accordingly. The strategy then waits for a specified number\n",
    "        of bars to elapse before checking for exit conditions, which include prices crossing back below the lowest low\n",
    "        (for long positions) or above the highest high (for short positions).\n",
    "    ''',\n",
    "    'VolatilityBreakout': '''\n",
    "        The Volatility Breakout strategy is a trend-following strategy that aims to capture price breakouts based on\n",
    "        recent volatility. It calculates the highest high and lowest low over a specified lookback period and adjusts\n",
    "        them by a volatility factor. When the current closing price breaks above the adjusted highest high, it generates\n",
    "        a buy signal. Conversely, when the current closing price breaks below the adjusted lowest low, it generates\n",
    "        a sell signal.\n",
    "    '''\n",
    "}"
   ]
  },
  {
   "attachments": {},
   "cell_type": "markdown",
   "metadata": {},
   "source": [
    "### Description of the tunable parameters"
   ]
  },
  {
   "cell_type": "code",
   "execution_count": 22,
   "metadata": {},
   "outputs": [],
   "source": [
    "# Create a dictionary with the parameters and descriptions of each strategy\n",
    "parameter_descriptions = {\n",
    "    \"AverageDirectionalMovement\": {\n",
    "        'adx_period': {\n",
    "            'value': 7,\n",
    "            'description': 'The number of periods for calculating the Average Directional Movement Index (ADX). It measures the strength of a trend. If the ADX exceeds the threshold, it indicates a strong trend and triggers buying.'\n",
    "        },\n",
    "        'adx_threshold': {\n",
    "            'value': 15,\n",
    "            'description': 'The threshold value for the ADX to trigger buying. If the ADX exceeds this value, it indicates a strong trend and triggers buying.'\n",
    "        }\n",
    "    },\n",
    "    \"BollingerBands\": {\n",
    "        'period': {\n",
    "            'value': 30,\n",
    "            'description': 'The number of periods for calculating the Bollinger Bands. It determines the lookback period for calculating the moving average and standard deviation.'\n",
    "        },\n",
    "        'std_devs': {\n",
    "            'value': 3,\n",
    "            'description': 'The number of standard deviations for calculating the Bollinger Bands. It determines the width of the bands and the threshold for overbought and oversold conditions.'\n",
    "        }\n",
    "    },\n",
    "    \"MeanReversion\": {\n",
    "        'lookback_period': {\n",
    "            'value': 21,\n",
    "            'description': 'The number of periods used to calculate the mean and standard deviation for the mean reversion strategy. It determines the lookback period for calculating the z-score.'\n",
    "        },\n",
    "        'z_score_threshold': {\n",
    "            'value': 3.0,\n",
    "            'description': 'The threshold value for the z-score to trigger buying or selling. If the z-score exceeds this value (positive or negative), it indicates an extreme deviation from the mean and triggers a buy or sell signal.'\n",
    "        }\n",
    "    },\n",
    "    \"MeanReversionBollinger\": {\n",
    "        'lookback_period': {\n",
    "            'value': 40,\n",
    "            'description': 'The number of periods used to calculate the mean and standard deviation for the Mean Reversion Bollinger strategy. It determines the lookback period for calculating the z-score.'\n",
    "        },\n",
    "        'z_score_threshold': {\n",
    "            'value': 3,\n",
    "            'description': 'The threshold value for the z-score to trigger buying or selling in the Mean Reversion Bollinger strategy. If the z-score exceeds this value (positive or negative), it indicates an extreme deviation from the mean and triggers a buy or sell signal.'\n",
    "        }\n",
    "    },\n",
    "    \"MomentumVolatility\": {\n",
    "        'lookback_period': {\n",
    "            'value': 10,\n",
    "            'description': 'The number of periods for calculating the momentum indicator in the Momentum Volatility strategy. It determines the lookback period for calculating momentum.'\n",
    "        },\n",
    "        'atr_period': {\n",
    "            'value': 15,\n",
    "            'description': 'The number of periods for calculating the Average True Range (ATR) in the Momentum Volatility strategy. It determines the lookback period for measuring volatility.'\n",
    "        },\n",
    "        'atr_threshold': {\n",
    "            'value': 2.5,\n",
    "            'description': 'The threshold value for the ATR to trigger buying or selling in the Momentum Volatility strategy. If the ATR exceeds this value, it indicates high volatility and triggers a buy or sell signal.'\n",
    "        }\n",
    "    },\n",
    "    \"MovingAverageConvergenceDivergence\": {\n",
    "        'fast_period': {\n",
    "            'value': 50,\n",
    "            'description': 'The number of periods for calculating the fast moving average in the Moving Average Convergence Divergence (MACD) strategy. It determines the lookback period for the fast line.'\n",
    "        },\n",
    "        'slow_period': {\n",
    "            'value': 150,\n",
    "            'description': 'The number of periods for calculating the slow moving average in the MACD strategy. It determines the lookback period for the slow line.'\n",
    "        },\n",
    "        'signal_period': {\n",
    "            'value': 50,\n",
    "            'description': 'The number of periods for calculating the signal line in the MACD strategy. It determines the lookback period for the signal line.'\n",
    "        }\n",
    "    },\n",
    "    \"MovingAverageCrossover\": {\n",
    "        'short_period': {\n",
    "            'value': 50,\n",
    "            'description': 'The number of periods for calculating the short-term moving average in the Moving Average Crossover strategy. It determines the lookback period for the short-term moving average.'\n",
    "        },\n",
    "        'long_period': {\n",
    "            'value': 200,\n",
    "            'description': 'The number of periods for calculating the long-term moving average in the Moving Average Crossover strategy. It determines the lookback period for the long-term moving average.'\n",
    "        }\n",
    "    },\n",
    "    \"RelativeStrengthIndex\": {\n",
    "        'rsi_period': {\n",
    "            'value': 21,\n",
    "            'description': 'The number of periods for calculating the Relative Strength Index (RSI). It determines the lookback period for calculating RSI.'\n",
    "        },\n",
    "        'sell_threshold': {\n",
    "            'value': 75,\n",
    "            'description': 'The threshold value for the RSI to trigger selling. If the RSI crosses above this value, it indicates an overbought condition and triggers selling.'\n",
    "        },\n",
    "        'buy_threshold': {\n",
    "            'value': 40,\n",
    "            'description': 'The threshold value for the RSI to trigger buying. If the RSI crosses below this value, it indicates an oversold condition and triggers buying.'\n",
    "        }\n",
    "    },\n",
    "    \"StochasticOverboughtOversold\": {\n",
    "        'stoch_period': {\n",
    "            'value': 14,\n",
    "            'description': 'The number of periods for calculating the Stochastic Oscillator in the Stochastic Overbought/Oversold strategy. It determines the lookback period for the stochastic calculations.'\n",
    "        },\n",
    "        'stoch_threshold_oversold': {\n",
    "            'value': 45,\n",
    "            'description': 'The threshold value for the Stochastic Oscillator to trigger buying in the Stochastic Overbought/Oversold strategy. If the Stochastic Oscillator falls below this value and then crosses above it, it indicates an oversold condition and triggers buying.'\n",
    "        },\n",
    "        'stoch_threshold_overbought': {\n",
    "            'value': 80,\n",
    "            'description': 'The threshold value for the Stochastic Oscillator to trigger selling in the Stochastic Overbought/Oversold strategy. If the Stochastic Oscillator rises above this value and then crosses below it, it indicates an overbought condition and triggers selling.'\n",
    "        }\n",
    "    },\n",
    "    \"Turtle\": {\n",
    "        'entry_lookback': {\n",
    "            'value': 10,\n",
    "            'description': 'The number of periods for calculating the highest high and lowest low in the Turtle strategy. It determines the lookback period for identifying potential entry points.'\n",
    "        },\n",
    "        'exit_lookback': {\n",
    "            'value': 20,\n",
    "            'description': 'The number of bars to elapse before checking for exit conditions in the Turtle strategy. It determines the period for checking if prices cross back below the lowest low or above the highest high.'\n",
    "        }\n",
    "    },\n",
    "    \"VolatilityBreakout\": {\n",
    "        'lookback_period': {\n",
    "            'value': 20,\n",
    "            'description': 'The number of periods for calculating the highest high and lowest low in the Volatility Breakout strategy. It determines the lookback period for identifying breakouts based on recent volatility.'\n",
    "        },\n",
    "        'volatility_factor': {\n",
    "            'value': 1.5,\n",
    "            'description': 'The factor by which the highest high and lowest low are adjusted in the Volatility Breakout strategy. It determines the threshold for triggering buy or sell signals based on breakout levels adjusted by recent volatility.'\n",
    "        },\n",
    "        'stop_loss_percentage': {\n",
    "            'value': 0.02,\n",
    "            'description': 'The percentage below the entry price for setting the stop-loss level in the Volatility Breakout strategy. It determines the maximum acceptable loss for a trade.'\n",
    "        },\n",
    "        'take_profit_percentage': {\n",
    "            'value': 0.02,\n",
    "            'description': 'The percentage above the entry price for setting the take-profit level in the Volatility Breakout strategy. It determines the target profit level for a trade.'\n",
    "        }\n",
    "    }\n",
    "}"
   ]
  },
  {
   "attachments": {},
   "cell_type": "markdown",
   "metadata": {},
   "source": [
    "### Insertion of the strategy info in MongoDB"
   ]
  },
  {
   "cell_type": "code",
   "execution_count": 24,
   "metadata": {},
   "outputs": [
    {
     "data": {
      "text/plain": [
       "<pymongo.results.InsertManyResult at 0x2aa51279c40>"
      ]
     },
     "execution_count": 24,
     "metadata": {},
     "output_type": "execute_result"
    }
   ],
   "source": [
    "# Create a list to store strategy data\n",
    "strategy_data_list = []\n",
    "\n",
    "# Iterate over the strategy classes\n",
    "for i, (strategy_name, strategy_class) in enumerate(strategy_classes.items()):\n",
    "    # Get the description of the strategy\n",
    "    strategy_description = strategy_descriptions[strategy_name]\n",
    "\n",
    "    # Get the parameters and descriptions of the strategy\n",
    "    strategy_parameters_description = parameter_descriptions[strategy_name]\n",
    "\n",
    "    # Create strategy data dictionary\n",
    "    strategy_data = {\n",
    "        'users': \"all\",\n",
    "        'strategy_id': strategy_name,\n",
    "        'description': strategy_description,\n",
    "        'parameters': strategy_parameters_description,\n",
    "    }\n",
    "\n",
    "    # Append strategy data to the list\n",
    "    strategy_data_list.append(strategy_data)\n",
    "\n",
    "# Perform bulk insert\n",
    "db['default_strategies'].insert_many(strategy_data_list)"
   ]
  },
  {
   "cell_type": "code",
   "execution_count": 16,
   "metadata": {},
   "outputs": [
    {
     "name": "stdout",
     "output_type": "stream",
     "text": [
      "0 ('AverageDirectionalMovement', <class 'modules.AverageDirectionalMovement.AverageDirectionalMovement'>)\n",
      "1 ('BollingerBands', <class 'modules.BollingerBands.BollingerBands'>)\n",
      "2 ('MeanReversion', <class 'modules.MeanReversion.MeanReversion'>)\n",
      "3 ('MeanReversionBollinger', <class 'modules.MeanReversionBollinger.MeanReversionBollinger'>)\n",
      "4 ('MomentumVolatility', <class 'modules.MomentumVolatility.MomentumVolatility'>)\n",
      "5 ('MovingAverageConvergenceDivergence', <class 'modules.MovingAverageConvergenceDivergence.MovingAverageConvergenceDivergence'>)\n",
      "6 ('MovingAverageCrossover', <class 'modules.MovingAverageCrossover.MovingAverageCrossover'>)\n",
      "7 ('RelativeStrengthIndex', <class 'modules.RelativeStrengthIndex.RelativeStrengthIndex'>)\n",
      "8 ('StochasticOverboughtOversold', <class 'modules.StochasticOverboughtOversold.StochasticOverboughtOversold'>)\n",
      "9 ('Turtle', <class 'backtesting.backtesting.Strategy'>)\n",
      "10 ('VolatilityBreakout', <class 'backtesting.backtesting.Strategy'>)\n"
     ]
    }
   ],
   "source": [
    "for i, (module_name, strategy_class) in enumerate(strategy_classes.items()):\n",
    "    print(i, (module_name, strategy_class))"
   ]
  },
  {
   "attachments": {},
   "cell_type": "markdown",
   "metadata": {},
   "source": [
    "# END"
   ]
  },
  {
   "attachments": {},
   "cell_type": "markdown",
   "metadata": {},
   "source": []
  }
 ],
 "metadata": {
  "kernelspec": {
   "display_name": "base",
   "language": "python",
   "name": "python3"
  },
  "language_info": {
   "codemirror_mode": {
    "name": "ipython",
    "version": 3
   },
   "file_extension": ".py",
   "mimetype": "text/x-python",
   "name": "python",
   "nbconvert_exporter": "python",
   "pygments_lexer": "ipython3",
   "version": "3.8.5"
  },
  "orig_nbformat": 4
 },
 "nbformat": 4,
 "nbformat_minor": 2
}
