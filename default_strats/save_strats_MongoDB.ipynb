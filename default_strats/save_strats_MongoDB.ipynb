{
 "cells": [
  {
   "attachments": {},
   "cell_type": "markdown",
   "metadata": {},
   "source": [
    "# Default strategies insertion into MongoDB"
   ]
  },
  {
   "cell_type": "code",
   "execution_count": 5,
   "metadata": {},
   "outputs": [],
   "source": [
    "## Libraries\n",
    "from importlib import import_module\n",
    "from modules.default_strategies import *\n",
    "import inspect\n",
    "\n",
    "from pymongo import MongoClient"
   ]
  },
  {
   "attachments": {},
   "cell_type": "markdown",
   "metadata": {},
   "source": [
    "### Database connection"
   ]
  },
  {
   "cell_type": "code",
   "execution_count": 9,
   "metadata": {},
   "outputs": [],
   "source": [
    "## DATABASE\n",
    "# Establish a connection to MongoDB\n",
    "client = MongoClient('mongodb://localhost:27017/')\n",
    "\n",
    "# Access the collection for the strategies\n",
    "db = client['strategies']"
   ]
  },
  {
   "cell_type": "code",
   "execution_count": 20,
   "metadata": {},
   "outputs": [
    {
     "data": {
      "text/plain": [
       "<pymongo.results.DeleteResult at 0x26ec27c0610>"
      ]
     },
     "execution_count": 20,
     "metadata": {},
     "output_type": "execute_result"
    }
   ],
   "source": [
    "# Delete the existing items in the collection to start fresh\n",
    "db['default_strategies'].delete_many({})"
   ]
  },
  {
   "attachments": {},
   "cell_type": "markdown",
   "metadata": {},
   "source": [
    "### Strategy classes definition"
   ]
  },
  {
   "cell_type": "code",
   "execution_count": 12,
   "metadata": {},
   "outputs": [],
   "source": [
    "# Get the strategies module dynamically\n",
    "strategies_module = import_module('modules.default_strategies')\n",
    "\n",
    "# Get all classes from the strategies module in the order they appear in the file\n",
    "strategy_classes = [cls for name, cls in inspect.getmembers(strategies_module, inspect.isclass) if issubclass(cls, Strategy) and cls.__module__ == strategies_module.__name__]"
   ]
  },
  {
   "attachments": {},
   "cell_type": "markdown",
   "metadata": {},
   "source": [
    "### Description of the strategies"
   ]
  },
  {
   "cell_type": "code",
   "execution_count": 13,
   "metadata": {},
   "outputs": [],
   "source": [
    "# Create a dictionary with the descriptions of each strategy\n",
    "strategy_descriptions = {\n",
    "    MeanReversion: \"Mean Reversion strategy aims to capture price movements that deviate from the mean. It buys when the price is below the mean and sells when the price is above the mean.\",\n",
    "    Momentum: \"Momentum strategy aims to capture trends in the market. It buys when the price shows positive momentum and sells when the price shows negative momentum.\",\n",
    "    MovingAverageCrossover: \"Moving Average Crossover strategy uses two moving averages of different periods. It buys when the shorter-term moving average crosses above the longer-term moving average, and sells when the shorter-term moving average crosses below the longer-term moving average.\",\n",
    "    Breakout: \"Breakout strategy aims to capture price breakouts from a defined range. It buys when the price breaks above the range and sells when the price breaks below the range.\",\n",
    "    RelativeStrengthIndex: \"RSI strategy uses the Relative Strength Index (RSI) indicator to identify overbought and oversold conditions. It buys when the RSI crosses below a certain threshold and sells when the RSI crosses above another threshold.\",\n",
    "    BollingerBands: \"Bollinger Bands strategy uses the Bollinger Bands indicator to identify potential buying and selling opportunities. It buys when the price touches the lower Bollinger Band and sells when the price touches the upper Bollinger Band.\",\n",
    "    MeanReversionBollinger: \"Mean Reversion with Bollinger Bands strategy combines mean reversion and Bollinger Bands. It buys when the price deviates below the mean and touches the lower Bollinger Band, and sells when the price deviates above the mean and touches the upper Bollinger Band.\",\n",
    "    MACD: \"MACD strategy uses the Moving Average Convergence Divergence (MACD) indicator to generate buy and sell signals based on the crossovers of the MACD line and the signal line.\",\n",
    "    AverageDirectionalMovement: \"ADX strategy uses the Average Directional Index (ADX) indicator to determine the strength of a trend. It buys when the ADX is above a certain threshold, indicating a strong trend, and sells when the ADX is below another threshold.\",\n",
    "    Turtle: \"Turtle Trading strategy involves entering long positions when the price exceeds the highest high over a certain lookback period and entering short positions when the price falls below the lowest low over the same period.\",\n",
    "    VolatilityBreakout: \"Volatility Breakout strategy aims to capture price breakouts during periods of high volatility. It buys when the price exceeds the highest high multiplied by a volatility factor and sells when the price falls below the lowest low multiplied by the same factor.\"\n",
    "}"
   ]
  },
  {
   "attachments": {},
   "cell_type": "markdown",
   "metadata": {},
   "source": [
    "### Description of the tunable parameters"
   ]
  },
  {
   "cell_type": "code",
   "execution_count": 14,
   "metadata": {},
   "outputs": [],
   "source": [
    "# Create a dictionary with the parameters and descriptions of each strategy\n",
    "strategy_parameters = {\n",
    "    MeanReversion: {\n",
    "        'lookback_period': {\n",
    "            'description': 'The number of periods to look back for calculating mean reversion. It measures how far the current price deviates from its mean value over the specified period. If the price deviates too much, it triggers buying or selling.'\n",
    "        },\n",
    "        'z_score_threshold': {\n",
    "            'description': 'The threshold value for the z-score. The z-score measures the number of standard deviations the current price is away from its mean value. If the z-score exceeds this threshold, it triggers buying or selling.'\n",
    "        }\n",
    "    },\n",
    "    Momentum: {\n",
    "        'lookback_period': {\n",
    "            'description': 'The number of periods to look back for calculating momentum. It measures the percentage change in the price over the specified period. If the recent price change is positive, it triggers buying. If the recent price change is negative, it triggers selling.'\n",
    "        }\n",
    "    },\n",
    "    MovingAverageCrossover: {\n",
    "        'short_period': {\n",
    "            'description': 'The number of periods for the short-term moving average. It calculates the average price over the specified period. If the short-term moving average crosses above the long-term moving average, it triggers buying. If it crosses below, it triggers selling.'\n",
    "        },\n",
    "        'long_period': {\n",
    "            'description': 'The number of periods for the long-term moving average. It calculates the average price over the specified period. If the short-term moving average crosses above the long-term moving average, it triggers buying. If it crosses below, it triggers selling.'\n",
    "        }\n",
    "    },\n",
    "    Breakout: {\n",
    "        'lookback_period': {\n",
    "            'description': 'The number of periods to look back for calculating the range breakout. It identifies the highest high and lowest low over the specified period. If the current price breaks above the range, it triggers buying. If it breaks below, it triggers selling.'\n",
    "        }\n",
    "    },\n",
    "    RelativeStrengthIndex: {\n",
    "        'rsi_period': {\n",
    "            'description': 'The number of periods for calculating the Relative Strength Index (RSI). It measures the magnitude of recent price changes to evaluate overbought and oversold conditions. If the RSI exceeds the sell threshold, it triggers selling. If it falls below the buy threshold, it triggers buying.'\n",
    "        },\n",
    "        'sell_threshold': {\n",
    "            'description': 'The threshold value for the RSI to trigger selling. If the RSI exceeds this value, it indicates an overbought condition and triggers selling.'\n",
    "        },\n",
    "        'buy_threshold': {\n",
    "            'description': 'The threshold value for the RSI to trigger buying. If the RSI falls below this value, it indicates an oversold condition and triggers buying.'\n",
    "        }\n",
    "    },\n",
    "    BollingerBands: {\n",
    "        'period': {\n",
    "            'description': 'The number of periods for calculating the Bollinger Bands. They consist of a moving average and an upper and lower band that represent the price volatility. If the price falls below the lower band, it triggers buying. If it exceeds the upper band, it triggers selling.'\n",
    "        },\n",
    "        'std_devs': {\n",
    "            'description': 'The number of standard deviations for the Bollinger Bands. It determines the width of the bands and reflects the price volatility. Higher standard deviations result in wider bands.'\n",
    "        }\n",
    "    },\n",
    "    MeanReversionBollinger: {\n",
    "        'lookback_period': {\n",
    "            'description': 'The number of periods to look back for calculating mean reversion. It measures how far the current price deviates from its mean value over the specified period. If the price deviates too much and touches the upper or lower Bollinger Band, it triggers buying or selling.'\n",
    "        },\n",
    "        'z_score_threshold': {\n",
    "            'description': 'The threshold value for the z-score. The z-score measures the number of standard deviations the current price is away from its mean value. If the z-score exceeds this threshold and the price touches the upper or lower Bollinger Band, it triggers buying or selling.'\n",
    "        }\n",
    "    },\n",
    "    MACD: {\n",
    "        'fast_period': {\n",
    "            'description': 'The number of periods for the fast Exponential Moving Average (EMA) in MACD calculation. It determines the sensitivity of the fast EMA to recent price changes.'\n",
    "        },\n",
    "        'slow_period': {\n",
    "            'description': 'The number of periods for the slow Exponential Moving Average (EMA) in MACD calculation. It determines the sensitivity of the slow EMA to recent price changes.'\n",
    "        },\n",
    "        'signal_period': {\n",
    "            'description': 'The number of periods for the signal line in MACD calculation. It represents the smoothing of the MACD line and helps generate buy and sell signals.'\n",
    "        }\n",
    "    },\n",
    "    AverageDirectionalMovement: {\n",
    "        'adx_period': {\n",
    "            'description': 'The number of periods for calculating the Average Directional Movement Index (ADX). It measures the strength of a trend. If the ADX exceeds the threshold, it indicates a strong trend and triggers buying.'\n",
    "        },\n",
    "        'adx_threshold': {\n",
    "            'description': 'The threshold value for the ADX to trigger buying. If the ADX exceeds this value, it indicates a strong trend and triggers buying.'\n",
    "        }\n",
    "    },\n",
    "    Turtle: {\n",
    "        'lookback_period': {\n",
    "            'description': 'The number of periods to look back for calculating the highest high and lowest low. It identifies the highest high and lowest low over the specified period. If the current price exceeds the highest high, it triggers buying. If it falls below the lowest low, it triggers selling.'\n",
    "        }\n",
    "    },\n",
    "    VolatilityBreakout: {\n",
    "        'lookback_period': {\n",
    "            'description': 'The number of periods to look back for calculating the highest high and lowest low. It identifies the highest high and lowest low over the specified period.'\n",
    "        },\n",
    "        'volatility_factor': {\n",
    "            'description': 'The factor used to multiply the highest high and lowest low. It determines the breakout levels based on the volatility. Higher factors result in wider breakout levels.'\n",
    "        }\n",
    "    }\n",
    "}"
   ]
  },
  {
   "attachments": {},
   "cell_type": "markdown",
   "metadata": {},
   "source": [
    "### Insertion of the strategy info in MongoDB"
   ]
  },
  {
   "cell_type": "code",
   "execution_count": 21,
   "metadata": {},
   "outputs": [
    {
     "data": {
      "text/plain": [
       "<pymongo.results.InsertManyResult at 0x26ec2801460>"
      ]
     },
     "execution_count": 21,
     "metadata": {},
     "output_type": "execute_result"
    }
   ],
   "source": [
    "# Create a list to store strategy data\n",
    "strategy_data_list = []\n",
    "\n",
    "# Iterate over the strategy classes\n",
    "for i, strategy_class in enumerate(strategy_classes):\n",
    "    # Assign a unique strategy ID using the class name\n",
    "    strategy_name = strategy_class.__name__\n",
    "\n",
    "    # Get the description of the strategy\n",
    "    strategy_description = strategy_descriptions[strategy_class]\n",
    "\n",
    "    # Get the parameters and descriptions of the strategy\n",
    "    strategy_parameters_description = strategy_parameters[strategy_class]\n",
    "\n",
    "    # Create strategy data dictionary\n",
    "    strategy_data = {\n",
    "        'strategy_id': i+1,\n",
    "        'strategy_name': strategy_name,\n",
    "        'description': strategy_description,\n",
    "        'parameters_description': strategy_parameters_description,\n",
    "    }\n",
    "\n",
    "    # Append strategy data to the list\n",
    "    strategy_data_list.append(strategy_data)\n",
    "\n",
    "# Perform bulk insert\n",
    "db['default_strategies'].insert_many(strategy_data_list)"
   ]
  },
  {
   "attachments": {},
   "cell_type": "markdown",
   "metadata": {},
   "source": [
    "# END"
   ]
  },
  {
   "attachments": {},
   "cell_type": "markdown",
   "metadata": {},
   "source": []
  }
 ],
 "metadata": {
  "kernelspec": {
   "display_name": "base",
   "language": "python",
   "name": "python3"
  },
  "language_info": {
   "codemirror_mode": {
    "name": "ipython",
    "version": 3
   },
   "file_extension": ".py",
   "mimetype": "text/x-python",
   "name": "python",
   "nbconvert_exporter": "python",
   "pygments_lexer": "ipython3",
   "version": "3.8.5"
  },
  "orig_nbformat": 4
 },
 "nbformat": 4,
 "nbformat_minor": 2
}
